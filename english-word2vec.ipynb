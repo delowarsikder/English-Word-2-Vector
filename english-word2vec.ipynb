{
 "cells": [
  {
   "cell_type": "code",
   "execution_count": 1,
   "metadata": {
    "_cell_guid": "b1076dfc-b9ad-4769-8c92-a6c4dae69d19",
    "_uuid": "8f2839f25d086af736a60e9eeb907d3b93b6e0e5"
   },
   "outputs": [
    {
     "name": "stdout",
     "output_type": "stream",
     "text": [
      "[]\n"
     ]
    }
   ],
   "source": [
    "# This Python 3 environment comes with many helpful analytics libraries installed\n",
    "# It is defined by the kaggle/python docker image: https://github.com/kaggle/docker-python\n",
    "# For example, here's several helpful packages to load in \n",
    "\n",
    "import numpy as np # linear algebra\n",
    "import pandas as pd # data processing, CSV file I/O (e.g. pd.read_csv)\n",
    "\n",
    "# Input data files are available in the \"../input/\" directory.\n",
    "# For example, running this (by clicking run or pressing Shift+Enter) will list the files in the input directory\n",
    "\n",
    "import os\n",
    "print(os.listdir(\"../input\"))\n",
    "\n",
    "# Any results you write to the current directory are saved as output."
   ]
  },
  {
   "cell_type": "markdown",
   "metadata": {
    "_uuid": "361705f7ca801b5cd3b964cb8f8f152de5878bf8"
   },
   "source": [
    "# **Sentence tokenization**"
   ]
  },
  {
   "cell_type": "code",
   "execution_count": 2,
   "metadata": {
    "_cell_guid": "79c7e3d0-c299-4dcb-8224-4455121ee9b0",
    "_uuid": "d629ff2d2480ee46fbb7e2d37f6b5fab8052498a"
   },
   "outputs": [
    {
     "name": "stdout",
     "output_type": "stream",
     "text": [
      "Backgammon is one of the oldest known board games.\n",
      "Its history can be traced back nearly 5,000 years to archeological discoveries in the Middle East.\n",
      "It is a two player game where each player has fifteen checkers which move between twenty-four points according to the roll of two dice.\n"
     ]
    }
   ],
   "source": [
    "import nltk\n",
    "\n",
    "text = \"Backgammon is one of the oldest known board games. Its history can be traced back nearly 5,000 years to archeological discoveries in the Middle East. It is a two player game where each player has fifteen checkers which move between twenty-four points according to the roll of two dice.\"\n",
    "sentences = nltk.sent_tokenize(text)\n",
    "for sentence in sentences:\n",
    "    print(sentence)\n",
    "    "
   ]
  },
  {
   "cell_type": "markdown",
   "metadata": {
    "_uuid": "75e1cebf7c3521bfcad736f67bf088e02f5a3a5f"
   },
   "source": [
    "# ** Removing punctuation**"
   ]
  },
  {
   "cell_type": "code",
   "execution_count": 3,
   "metadata": {
    "_uuid": "1ad7344198bf78c742f6cb487462f4a47c88fbbd"
   },
   "outputs": [],
   "source": [
    "from nltk.tokenize import RegexpTokenizer\n",
    "tt=\"\"\n",
    "\n",
    "sentences2=[]\n",
    "for x in sentences:\n",
    "    tokenizer = RegexpTokenizer(r'\\w+')\n",
    "    text2=tokenizer.tokenize(x)\n",
    "    \n",
    "    for x2 in text2:\n",
    "        tt+=x2+\" \"\n",
    "    sentences2.append(tt)\n",
    "        \n",
    "   \n",
    "\n"
   ]
  },
  {
   "cell_type": "markdown",
   "metadata": {
    "_uuid": "8abe52a0f09066e2ffc691b0260809ac729eaec9"
   },
   "source": [
    "# **Removing Stopword**"
   ]
  },
  {
   "cell_type": "code",
   "execution_count": 4,
   "metadata": {
    "_uuid": "67248a3cf285fab9e1b701c464bd536f8d3ab9e9",
    "scrolled": true
   },
   "outputs": [],
   "source": [
    "\n",
    "from nltk.corpus import stopwords\n",
    "\n",
    "stop_words = set(stopwords.words(\"english\"))\n",
    "m=[]\n",
    "for sentence in sentences2:\n",
    "    words = nltk.word_tokenize(sentence)\n",
    "    without_stop_words = [word for word in words if not word in stop_words]\n",
    "    m.append(without_stop_words)"
   ]
  },
  {
   "cell_type": "markdown",
   "metadata": {
    "_uuid": "029a8fc4f0f40ea16266e41df4ac35d697ccff25"
   },
   "source": [
    "# **Lemmatization**"
   ]
  },
  {
   "cell_type": "code",
   "execution_count": 5,
   "metadata": {
    "_uuid": "b80f2a6865e2a9e67f1098777cd2cd4ff74eb336"
   },
   "outputs": [],
   "source": [
    "from nltk.stem import PorterStemmer, WordNetLemmatizer\n",
    "from nltk.corpus import wordnet\n",
    "mm=[]\n",
    "for x in m:\n",
    "    m2=[]\n",
    "    for x2 in x:\n",
    "        lemmatizer = WordNetLemmatizer()\n",
    "        x3=lemmatizer.lemmatize(x2, wordnet.VERB)\n",
    "        m2.append(x3)\n",
    "    mm.append(m2)"
   ]
  },
  {
   "cell_type": "markdown",
   "metadata": {
    "_uuid": "5341976893b85414a1079e2f3a049c7e3354b4e0"
   },
   "source": [
    "# Initialize the model"
   ]
  },
  {
   "cell_type": "code",
   "execution_count": 6,
   "metadata": {
    "_uuid": "7cb9b4017efa3f2940a6140d33150d558a726b5e"
   },
   "outputs": [],
   "source": [
    "\n",
    "from gensim.test.utils import common_texts, get_tmpfile\n",
    "from gensim.models import Word2Vec\n",
    "import gensim\n",
    "\n",
    "path = get_tmpfile(\"word2vec.model\")\n",
    "\n",
    "model = gensim.models.Word2Vec(mm,size=150,window=10,min_count=2,workers=10)\n",
    "model.save(\"word2vec.model\")"
   ]
  },
  {
   "cell_type": "markdown",
   "metadata": {
    "_uuid": "b418770c40f013aaaa844136e4381c82de1e3c36"
   },
   "source": [
    "# Train the model"
   ]
  },
  {
   "cell_type": "code",
   "execution_count": 7,
   "metadata": {
    "_uuid": "0b32ae1d945c643e15487b7728de01fb6f7d5dca"
   },
   "outputs": [
    {
     "name": "stdout",
     "output_type": "stream",
     "text": [
      "Word2Vec(vocab=20, size=150, alpha=0.025)\n",
      "['Backgammon', 'one', 'oldest', 'know', 'board', 'game', 'Its', 'history', 'trace', 'back', 'nearly', '5', '000', 'years', 'archeological', 'discoveries', 'Middle', 'East', 'two', 'player']\n",
      "new model:  Word2Vec(vocab=20, size=150, alpha=0.025)\n"
     ]
    }
   ],
   "source": [
    "from gensim.models import Word2Vec\n",
    "# train model\n",
    "model.train(mm, total_examples=len(mm), epochs=10)\n",
    "# summarize the loaded model\n",
    "print(model)\n",
    "# summarize vocabulary\n",
    "words = list(model.wv.vocab)\n",
    "print(words)\n",
    "# access vector for one word\n",
    "# save model\n",
    "model.save('model.bin')\n",
    "# load model\n",
    "new_model = Word2Vec.load('model.bin')\n",
    "print(\"new model: \",new_model)\n"
   ]
  },
  {
   "cell_type": "markdown",
   "metadata": {
    "_uuid": "0458bfa3669fec00bbf7623536d5156c80705b37"
   },
   "source": [
    "# Word 2 vector Representation"
   ]
  },
  {
   "cell_type": "code",
   "execution_count": 8,
   "metadata": {
    "_uuid": "0cdf8b59b4eb2434a9bb78632fa1f0cca186419f"
   },
   "outputs": [],
   "source": [
    "vector = model.wv['know']"
   ]
  },
  {
   "cell_type": "markdown",
   "metadata": {
    "_uuid": "f7d045ae48617a85e1814ce27ab558622b32cb07"
   },
   "source": [
    "# Vector representation of any word "
   ]
  },
  {
   "cell_type": "code",
   "execution_count": 9,
   "metadata": {
    "_uuid": "89626009eedbbff45af9a32990ca19743e7be653"
   },
   "outputs": [
    {
     "data": {
      "text/plain": [
       "array([ 1.4285091e-03,  3.1783311e-03, -1.0087854e-03, -9.5385488e-04,\n",
       "       -4.9991970e-04, -1.0532368e-03, -4.0344708e-04,  1.9067405e-04,\n",
       "       -9.4105228e-04,  1.2529726e-03,  8.5206190e-04, -4.0758623e-05,\n",
       "       -1.8683439e-03,  3.9531058e-04,  1.6882718e-03, -1.9360414e-03,\n",
       "       -9.6936774e-04,  9.1190479e-04, -2.3725207e-03,  3.0170023e-03,\n",
       "       -1.1164313e-03,  5.1587541e-04,  3.2306935e-03, -1.1344168e-03,\n",
       "       -2.3036315e-03, -2.1755896e-03,  2.8109103e-03,  2.0395762e-03,\n",
       "        1.4398494e-04, -5.9115264e-04, -6.4871344e-04,  1.6209476e-03,\n",
       "        8.6127874e-04,  2.3540652e-03,  1.4174921e-03,  3.0453682e-03,\n",
       "       -1.0603955e-03,  1.8215293e-04, -2.3652771e-03,  1.3062085e-03,\n",
       "        3.2236744e-03,  2.0136321e-03, -1.2537045e-04, -2.5646880e-03,\n",
       "       -1.3310701e-03,  2.7328641e-03, -2.8504680e-03,  1.2215005e-03,\n",
       "        3.1640199e-03,  3.2046651e-03,  7.0797949e-04,  2.8381604e-03,\n",
       "       -8.8501634e-04,  7.5719628e-04, -3.0938233e-03, -1.3740091e-03,\n",
       "       -1.1428016e-03,  8.9523062e-04,  3.0771999e-03, -1.2104673e-03,\n",
       "       -2.1390149e-03,  2.4435745e-04,  6.4260239e-04,  6.2434858e-04,\n",
       "       -9.3087694e-04, -1.1882641e-03,  1.0128757e-03,  3.6651702e-04,\n",
       "        3.6164402e-04,  1.4317640e-04, -2.2192162e-03, -1.0505872e-03,\n",
       "       -2.0481939e-03,  8.9444889e-04, -9.4519259e-04,  2.6936347e-03,\n",
       "       -4.3819044e-04, -1.5660555e-03,  7.4192835e-04, -1.4938201e-03,\n",
       "        6.4470287e-04, -3.1026595e-04, -2.8905596e-03, -2.6964566e-03,\n",
       "        1.2416025e-03, -8.8465394e-04,  2.4254350e-03,  1.1949276e-03,\n",
       "        1.4399054e-03, -1.8336386e-03,  3.0105251e-03,  2.8128459e-03,\n",
       "        1.8991315e-04,  1.7028158e-03, -1.4070275e-03, -1.3723524e-03,\n",
       "        1.2622571e-03, -5.2940514e-04, -2.7344713e-03, -2.5324670e-03,\n",
       "        2.1865489e-03,  2.7721140e-03, -2.8535570e-03,  2.0574294e-03,\n",
       "        1.1694052e-03, -1.9085604e-03,  3.3009448e-04, -6.5401138e-04,\n",
       "        5.4131250e-04,  2.1157910e-04, -4.3791230e-04,  2.8818757e-03,\n",
       "        5.4034212e-04,  1.0018788e-03, -2.1554269e-03, -2.0109324e-03,\n",
       "       -1.1026276e-03,  9.9466110e-05, -2.0945494e-03,  1.0263919e-03,\n",
       "        1.8839961e-03,  2.3962611e-03, -3.0207471e-03,  2.3164076e-03,\n",
       "       -2.7392125e-03,  3.0527292e-03,  3.0141382e-03, -1.3542579e-03,\n",
       "        1.4379185e-03,  1.4601578e-03, -1.4466846e-03, -2.2836954e-03,\n",
       "        1.0695813e-03,  1.6878175e-03, -7.1805599e-04,  2.0318588e-03,\n",
       "        8.1061991e-04, -8.9640991e-04,  5.1322253e-04,  1.5945249e-03,\n",
       "        2.4794261e-03, -2.7119378e-03, -6.3473952e-04,  2.5865131e-03,\n",
       "       -1.0662369e-03, -3.2887263e-03, -2.4279181e-03,  3.3095328e-03,\n",
       "       -2.4848193e-04, -1.1323181e-03], dtype=float32)"
      ]
     },
     "execution_count": 9,
     "metadata": {},
     "output_type": "execute_result"
    }
   ],
   "source": [
    "vector"
   ]
  },
  {
   "cell_type": "markdown",
   "metadata": {
    "_uuid": "2a6699c9fd26e4b8ddde9ec26eeed973d83048e3"
   },
   "source": [
    "# Find the similar word of any word\n"
   ]
  },
  {
   "cell_type": "code",
   "execution_count": 10,
   "metadata": {
    "_uuid": "649dcc0f9db72e71c56392125ca62733cd976606",
    "scrolled": true
   },
   "outputs": [
    {
     "data": {
      "text/plain": [
       "[('back', 0.18479040265083313),\n",
       " ('trace', 0.18014021217823029),\n",
       " ('Its', 0.14480435848236084),\n",
       " ('history', 0.11346539109945297),\n",
       " ('000', 0.06943706423044205),\n",
       " ('years', 0.06161322444677353),\n",
       " ('two', 0.05154094845056534),\n",
       " ('board', 0.04001379385590553),\n",
       " ('Middle', 0.034075524657964706),\n",
       " ('5', 0.032549552619457245)]"
      ]
     },
     "execution_count": 10,
     "metadata": {},
     "output_type": "execute_result"
    }
   ],
   "source": [
    "w1=['know']\n",
    "model.wv.most_similar(positive=w1)"
   ]
  }
 ],
 "metadata": {
  "kernelspec": {
   "display_name": "Python 3",
   "language": "python",
   "name": "python3"
  },
  "language_info": {
   "codemirror_mode": {
    "name": "ipython",
    "version": 3
   },
   "file_extension": ".py",
   "mimetype": "text/x-python",
   "name": "python",
   "nbconvert_exporter": "python",
   "pygments_lexer": "ipython3",
   "version": "3.6.6"
  }
 },
 "nbformat": 4,
 "nbformat_minor": 1
}
